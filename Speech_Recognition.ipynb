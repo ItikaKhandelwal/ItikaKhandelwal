{
  "nbformat": 4,
  "nbformat_minor": 0,
  "metadata": {
    "colab": {
      "provenance": [],
      "authorship_tag": "ABX9TyMxPdN1NRrIbRlRS4npQXiN",
      "include_colab_link": true
    },
    "kernelspec": {
      "name": "python3",
      "display_name": "Python 3"
    },
    "language_info": {
      "name": "python"
    }
  },
  "cells": [
    {
      "cell_type": "markdown",
      "metadata": {
        "id": "view-in-github",
        "colab_type": "text"
      },
      "source": [
        "<a href=\"https://colab.research.google.com/github/ItikaKhandelwal/ItikaKhandelwal/blob/main/Speech_Recognition.ipynb\" target=\"_parent\"><img src=\"https://colab.research.google.com/assets/colab-badge.svg\" alt=\"Open In Colab\"/></a>"
      ]
    },
    {
      "cell_type": "code",
      "execution_count": null,
      "metadata": {
        "colab": {
          "base_uri": "https://localhost:8080/"
        },
        "id": "GzzoDXD6hEug",
        "outputId": "e39906c0-b880-471d-a276-989e2feea6ed"
      },
      "outputs": [
        {
          "output_type": "stream",
          "name": "stdout",
          "text": [
            "Requirement already satisfied: SpeechRecognition in /usr/local/lib/python3.11/dist-packages (3.14.3)\n",
            "Requirement already satisfied: typing-extensions in /usr/local/lib/python3.11/dist-packages (from SpeechRecognition) (4.14.1)\n"
          ]
        }
      ],
      "source": [
        "pip install SpeechRecognition\n"
      ]
    },
    {
      "cell_type": "code",
      "source": [
        "import speech_recognition as sr\n",
        "\n",
        "# STEP 1: Initialize the recognizer\n",
        "recognizer = sr.Recognizer()\n",
        "\n",
        "# STEP 2: Load your WAV file\n",
        "AUDIO_FILE = \"harvard.wav\"  # Change this if your file has a different name\n",
        "\n",
        "try:\n",
        "    with sr.AudioFile(AUDIO_FILE) as source:\n",
        "        print(\"🔊 Loading audio...\")\n",
        "        audio_data = recognizer.record(source)\n",
        "        print(\"✅ Audio loaded. Transcribing...\")\n",
        "\n",
        "    # STEP 3: Transcribe using Google's Web Speech API\n",
        "    text = recognizer.recognize_google(audio_data)\n",
        "\n",
        "    # STEP 4: Output to terminal\n",
        "    print(\"\\n📝 Transcription:\\n\")\n",
        "    print(text)\n",
        "\n",
        "    # STEP 5: Save transcription to a file\n",
        "    with open(\"transcription.txt\", \"w\", encoding=\"utf-8\") as f:\n",
        "        f.write(text)\n",
        "        print(\"\\n📁 Transcription saved to 'transcription.txt'.\")\n",
        "\n",
        "except sr.UnknownValueError:\n",
        "    print(\"❌ Could not understand the audio.\")\n",
        "except sr.RequestError as e:\n",
        "    print(f\"❌ Request failed: {e}\")\n",
        "except FileNotFoundError:\n",
        "    print(\"❌ Audio file not found. Please check the path.\")\n"
      ],
      "metadata": {
        "colab": {
          "base_uri": "https://localhost:8080/"
        },
        "id": "EYaA8WOjl1HB",
        "outputId": "5ab36c22-01a8-4315-e365-ad438c932df4"
      },
      "execution_count": null,
      "outputs": [
        {
          "output_type": "stream",
          "name": "stdout",
          "text": [
            "🔊 Loading audio...\n",
            "✅ Audio loaded. Transcribing...\n",
            "\n",
            "📝 Transcription:\n",
            "\n",
            "the stale smell of old beer lingers it takes heat to bring out the odor a cold dip restores health and zest a salt pickle taste fine with ham tacos al pastor are my favorite a zestful food is the hot cross bun\n",
            "\n",
            "📁 Transcription saved to 'transcription.txt'.\n"
          ]
        }
      ]
    },
    {
      "cell_type": "code",
      "source": [
        "import speech_recognition as sr\n",
        "\n",
        "# STEP 1: Initialize the recognizer\n",
        "recognizer = sr.Recognizer()\n",
        "\n",
        "# STEP 2: Load your WAV file\n",
        "AUDIO_FILE = \"jackhammer.wav\"  # Change this if your file has a different name\n",
        "\n",
        "try:\n",
        "    with sr.AudioFile(AUDIO_FILE) as source:\n",
        "        print(\"🔊 Loading audio...\")\n",
        "        audio_data = recognizer.record(source)\n",
        "        print(\"✅ Audio loaded. Transcribing...\")\n",
        "\n",
        "    # STEP 3: Transcribe using Google's Web Speech API\n",
        "    text = recognizer.recognize_google(audio_data)\n",
        "\n",
        "    # STEP 4: Output to terminal\n",
        "    print(\"\\n📝 Transcription:\\n\")\n",
        "    print(text)\n",
        "\n",
        "    # STEP 5: Save transcription to a file\n",
        "    with open(\"transcription.txt\", \"w\", encoding=\"utf-8\") as f:\n",
        "        f.write(text)\n",
        "        print(\"\\n📁 Transcription saved to 'transcription.txt'.\")\n",
        "\n",
        "except sr.UnknownValueError:\n",
        "    print(\"❌ Could not understand the audio.\")\n",
        "except sr.RequestError as e:\n",
        "    print(f\"❌ Request failed: {e}\")\n",
        "except FileNotFoundError:\n",
        "    print(\"❌ Audio file not found. Please check the path.\")\n"
      ],
      "metadata": {
        "colab": {
          "base_uri": "https://localhost:8080/"
        },
        "id": "5TWwLvjrqFNK",
        "outputId": "51c4327f-0619-411a-bc19-30c9bc204eda"
      },
      "execution_count": null,
      "outputs": [
        {
          "output_type": "stream",
          "name": "stdout",
          "text": [
            "🔊 Loading audio...\n",
            "✅ Audio loaded. Transcribing...\n",
            "\n",
            "📝 Transcription:\n",
            "\n",
            "does snails smell like old deer lingers\n",
            "\n",
            "📁 Transcription saved to 'transcription.txt'.\n"
          ]
        }
      ]
    }
  ]
}